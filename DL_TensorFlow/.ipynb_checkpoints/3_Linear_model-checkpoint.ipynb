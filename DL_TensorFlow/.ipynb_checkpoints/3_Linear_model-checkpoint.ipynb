{
 "cells": [
  {
   "cell_type": "code",
   "execution_count": null,
   "metadata": {},
   "outputs": [],
   "source": [
    "import tensorflow as tf\n",
    "\n",
    "x = tf.placeholder(tf.float32, name = 'x')\n",
    "y = tf.placeholder(tf.float32, name = 'y')\n",
    "w = tf.Variable([.5], tf.float32, name = 'w')\n",
    "b = tf.Variable([.0], tf.float32, name = 'b')\n",
    "linear_model = w * x + b\n",
    "squared_deltas = tf.square(linear_model - y)\n",
    "loss = tf.reduce_sum(squared_deltas)\n",
    "init = tf.global_variables_initializer()\n",
    "optimizer = tf.train.GradientDescentOptimizer(0.001)\n",
    "train = optimizer.minimize(loss)\n",
    "sess=tf.Session()\n",
    "sess.run(init)\n",
    "for i in range(10000):\n",
    "    loss_val, train_val = sess.run([loss, train], {x: range(1, 10), y: range(0,-9,-1)})\n",
    "    print (\"Training Step: \", i, \"Loss: \", loss_val)\n",
    "    if loss_val < 1.0e-6: break \n",
    "print(sess.run([w, b]))"
   ]
  },
  {
   "cell_type": "code",
   "execution_count": null,
   "metadata": {},
   "outputs": [],
   "source": []
  }
 ],
 "metadata": {
  "kernelspec": {
   "display_name": "Python 3",
   "language": "python",
   "name": "python3"
  },
  "language_info": {
   "codemirror_mode": {
    "name": "ipython",
    "version": 3
   },
   "file_extension": ".py",
   "mimetype": "text/x-python",
   "name": "python",
   "nbconvert_exporter": "python",
   "pygments_lexer": "ipython3",
   "version": "3.6.6"
  }
 },
 "nbformat": 4,
 "nbformat_minor": 2
}
